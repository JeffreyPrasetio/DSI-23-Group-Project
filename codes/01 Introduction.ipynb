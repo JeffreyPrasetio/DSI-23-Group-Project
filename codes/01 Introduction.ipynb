{
 "cells": [
  {
   "cell_type": "markdown",
   "id": "879720e1",
   "metadata": {},
   "source": [
    "<img src=\"http://imgur.com/1ZcRyrc.png\" style=\"float: left; margin: 20px; height: 55px\">\n",
    "\n",
    "# Project 4 - West Nile Virus Prediction (Kaggle Competition)"
   ]
  },
  {
   "cell_type": "markdown",
   "id": "525ccf6c",
   "metadata": {},
   "source": [
    "## Background"
   ]
  },
  {
   "cell_type": "markdown",
   "id": "a8381775",
   "metadata": {},
   "source": [
    "West Nile virus is most commonly spread to humans through infected mosquitos. Around 20% of people who become infected with the virus develop symptoms ranging from a persistent fever, to serious neurological illnesses that can result in death.\n",
    "\n",
    "In 2002, the first human cases of West Nile virus were reported in Chicago. By 2004 the City of Chicago and the Chicago Department of Public Health (CDPH) had established a comprehensive surveillance and control program that is still in effect today. \n",
    "\n",
    "Since the implementation of comprehensive surveillance and control programmes, the number of West Nile Virus detected at the state-level has proven effective as the cases in Illinois (where Chicago is the city with the largest population) trended lower than other states (e.g. California) facing higher incidences of West Nile Virus. \n",
    "\n",
    "![Incidence of West Nile Virus](../images/WNV_Cases.jpg)\n",
    "Source: [CDC](https://www.cdc.gov/westnile/statsmaps/cumMapsData.html)\n",
    "\n",
    "The current strategies undertaken to reduce threat of West Nile Virus for Chicago's residents includes:\n",
    "- Treating catch basins in Chicago with larvicide\n",
    "- Placement of mosquito traps throughout the city for testing of mosquito samples on a weekly basis \n",
    "- Aerial spraying of pesticides  \n",
    "\n",
    "Source: [Chicago Government](https://www.chicago.gov/city/en/depts/cdph/provdrs/health_protection_and_response/news/2021/july/cdph-conducts-a-comprehensive-mosquito-surveillance-and-control-.html)"
   ]
  },
  {
   "cell_type": "markdown",
   "id": "42b67610",
   "metadata": {},
   "source": [
    "## Problem Statement"
   ]
  },
  {
   "cell_type": "markdown",
   "id": "0d3ae992",
   "metadata": {},
   "source": [
    "Recognising that the West Nile Virus is likely to be an endemic issue, we aim to improve the cost-effectiveness of the existing strategies to control the adult mosquito populations and mitigate the spread of the virus.\n",
    "\n",
    "Capitalising on data on past weather conditions and locations where West Nile Virus were found, we develop a machine learning tool to predict presence of West Nile Virus at a particular location facing specific weather conditions. This prediction tool will be useful as it can allow for targeted spraying of specific neighbourhoods facing higher threat of West Nile Virus. This can help the City of Chicago achieve cost savings and more efficiently allocate resources towards preventing transmission of this potentially deadly virus. \n",
    "\n",
    "An ideal model would meet the following requirements:\n",
    "\n",
    "\n",
    "|Requirements|Rationale|Data Science Metric|\n",
    "|:---|:---|:---|\n",
    "|Strong predictive powers| Effective use of past data points for predictions|Receiver Operating Characteristic Area Under Curve (ROC AUC)|\n",
    "|Ability to identify virus when it is indeed present|Ensures that locations with the virus can be identified and treated|Recall|\n",
    "|Precise positive prediction of virus presence|Low precision would lead to more (costly) sprays than necessary| Sensitivity|\n"
   ]
  },
  {
   "cell_type": "markdown",
   "id": "824c0c89",
   "metadata": {},
   "source": [
    "## Data"
   ]
  },
  {
   "cell_type": "markdown",
   "id": "23dd24ba",
   "metadata": {},
   "source": [
    "The datasets obtained from [Kaggle](https://www.kaggle.com/c/predict-west-nile-virus/data) used to develop the machine learning tool for predictions are are as follows. \n",
    "\n",
    "|Data|Description|\n",
    "|:---:|:---|\n",
    "|[`train.csv`](../assets/train.csv)|There are 10,505 raw observations. Each observation contains location details on the traps, the number of mosquitoes collected and an indication of whether the West Nile Virus is present. The data is for traps tested in years 2007, 2009, 2011 and 2013.| \n",
    "|[`test.csv`](../assets/test.csv)|There are 116,293 raw observations. Each observation contains location details on the traps, the number of mosquitoes collected and an indication of whether the West Nile Virus is present. The data is for traps tested in years 2008, 2010, 2012, and 2014.| \n",
    "|[`weather.csv`](../assets/weather.csv)|Weather data collected from 2 weather stations between 1 May and 31 Oct from 2007 to 2014. For further descriptions, see [pdf](../assets/noaa_weather_qclcd_documentation.pdf).|\n",
    "|[`spray.csv`](../assets/spray.csv)|Data contains the date, time and location of spray in 2011 and 2013. This dataset will only be used for the benefit and costs analysis of pesticide use (see Book 5) and will not be used to build the prediction model.|\n",
    "\n",
    "The data dictionary of the newly engineered features is found below. For description about original data, please refer to [Kaggle](https://www.kaggle.com/c/predict-west-nile-virus/data):\n",
    "\n",
    "|Feature|Type|Description|\n",
    "|:---|:---:|:---|\n",
    "|Tmin_L0|*float*|Average minimum temperature of the weather station closest to the trap within the same month.| \n",
    "|Tmin_L1|*float*|Average minimum temperature of the weather station closest to the trap in the previous month.| \n",
    "|Tmax_L0|*float*|Average maximum temperature of the weather station closest to the trap within the same month.| \n",
    "|Tmax_L1|*float*|Average maximum temperature of the weather station closest to the trap in the previous month.| \n",
    "|SeaLevel_L0|*float*|Average atmospheric pressure of the weather station closest to the trap within the same month.| \n",
    "|SeaLevel_L1|*float*|Average atmospheric pressure of the weather station closest to the trap in the previous month.| \n",
    "|RelativeHumidity|*float*|Relative humidity computed based on dewpoint and average temperature using the formula given at [link](https://www.calcunation.com/calculator/humidity-calculator.php).| \n",
    "|RelativeHumidity_L0|*float*|Average relative humidity of the weather station closest to the trap within the same month.| \n",
    "|RelativeHumidity_L1|*float*|Average relative humidity of the weather station closest to the trap in the previous month.| \n",
    "|PrecipTotal_L0|*float*|Average total precipitation reading of the weather station closest to the trap within the same month.| \n",
    "|PrecipTotal_L1|*float*|Average total precipitation reading of the weather station closest to the trap in the previous month.| \n",
    "|DewPoint_L0|*float*|Average dewpoint temperature reading of the weather station closest to the trap within the same month.| \n",
    "|DewPoint_L1|*float*|Average dewpoint temperature reading of the weather station closest to the trap in the previous month.| \n",
    "|AvgSpeed_L0|*float*|Average wind speed reading of the weather station closest to the trap within the same month.| \n",
    "|AvgSpeed_L1|*float*|Average wind speed reading of the weather station closest to the trap in the previous month.| \n",
    "|PIPIENS|*integer*|Dummy variable = 1 if Pipiens species is found within the trap and = 0 if otherwise.| \n",
    "|RESTUANS|*integer*|Dummy variable = 1 if Restauns species is found within the trap and = 0 if otherwise.| \n",
    "|WnvRisk_very low|*integer*|Dummy variable = 1 if between 0 and 2 cases of WNV were detected in the past and = 0 if otherwise.| \n",
    "|WnvRisk_low|*integer*|Dummy variable = 1 if between 2 and 6 cases of WNV were detected in the past and = 0 if otherwise.| \n",
    "|WnvRisk_medium|*integer*|Dummy variable = 1 if between 6 and 10 cases of WNV were detected in the past and = 0 if otherwise.| \n",
    "|WnvRisk_high|*integer*|Dummy variable = 1 if more than 10 cases of WNV were detected in the past and = 0 if otherwise.| \n",
    "|Rain|*integer*|Dummy variable = 1 if there was an event of either torrential storm, rain, drizzle or shower and = 0 if otherwise.| \n",
    "|Mist|*integer*|Dummy variable = 1 if there was an event of either fog, mist, haze or smoke and = 0 if otherwise.| "
   ]
  }
 ],
 "metadata": {
  "kernelspec": {
   "display_name": "Python 3",
   "language": "python",
   "name": "python3"
  },
  "language_info": {
   "codemirror_mode": {
    "name": "ipython",
    "version": 3
   },
   "file_extension": ".py",
   "mimetype": "text/x-python",
   "name": "python",
   "nbconvert_exporter": "python",
   "pygments_lexer": "ipython3",
   "version": "3.8.8"
  }
 },
 "nbformat": 4,
 "nbformat_minor": 5
}
